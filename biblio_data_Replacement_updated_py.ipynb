{
 "cells": [
  {
   "cell_type": "code",
   "execution_count": 1,
   "id": "50dd631e",
   "metadata": {},
   "outputs": [
    {
     "name": "stderr",
     "output_type": "stream",
     "text": [
      "C:\\Users\\User\\anaconda3\\lib\\site-packages\\openpyxl\\styles\\stylesheet.py:226: UserWarning: Workbook contains no default style, apply openpyxl's default\n",
      "  warn(\"Workbook contains no default style, apply openpyxl's default\")\n"
     ]
    },
    {
     "data": {
      "text/html": [
       "<div>\n",
       "<style scoped>\n",
       "    .dataframe tbody tr th:only-of-type {\n",
       "        vertical-align: middle;\n",
       "    }\n",
       "\n",
       "    .dataframe tbody tr th {\n",
       "        vertical-align: top;\n",
       "    }\n",
       "\n",
       "    .dataframe thead th {\n",
       "        text-align: right;\n",
       "    }\n",
       "</style>\n",
       "<table border=\"1\" class=\"dataframe\">\n",
       "  <thead>\n",
       "    <tr style=\"text-align: right;\">\n",
       "      <th></th>\n",
       "      <th>국가서지번호</th>\n",
       "      <th>출처기관제어번호</th>\n",
       "      <th>자료유형</th>\n",
       "      <th>표제와 책임표시사항</th>\n",
       "      <th>제목</th>\n",
       "      <th>부제목</th>\n",
       "      <th>편제</th>\n",
       "      <th>권차</th>\n",
       "      <th>저자</th>\n",
       "      <th>판사항</th>\n",
       "      <th>...</th>\n",
       "      <th>접근정보</th>\n",
       "      <th>번역</th>\n",
       "      <th>번역원어</th>\n",
       "      <th>정부기관부호</th>\n",
       "      <th>정부간행물등록번호</th>\n",
       "      <th>출처</th>\n",
       "      <th>간행빈도</th>\n",
       "      <th>권차/연월차</th>\n",
       "      <th>ISSN</th>\n",
       "      <th>소장사항</th>\n",
       "    </tr>\n",
       "  </thead>\n",
       "  <tbody>\n",
       "    <tr>\n",
       "      <th>0</th>\n",
       "      <td>NBC202245154</td>\n",
       "      <td>TP2022009866</td>\n",
       "      <td>장애인대체자료</td>\n",
       "      <td>5공 남산의 부장들[전자자료] /김충식 지음</td>\n",
       "      <td>5공 남산의 부장들</td>\n",
       "      <td>NaN</td>\n",
       "      <td>NaN</td>\n",
       "      <td>NaN</td>\n",
       "      <td>김충식</td>\n",
       "      <td>NaN</td>\n",
       "      <td>...</td>\n",
       "      <td>제작: 실로암점자도서관</td>\n",
       "      <td>N</td>\n",
       "      <td>NaN</td>\n",
       "      <td>NaN</td>\n",
       "      <td>NaN</td>\n",
       "      <td>대체자료종합목록</td>\n",
       "      <td>NaN</td>\n",
       "      <td>NaN</td>\n",
       "      <td>NaN</td>\n",
       "      <td>NaN</td>\n",
       "    </tr>\n",
       "    <tr>\n",
       "      <th>1</th>\n",
       "      <td>NBC202245154</td>\n",
       "      <td>TP2022031791</td>\n",
       "      <td>장애인대체자료</td>\n",
       "      <td>Kate and Nate are running late![녹음자료] /by Kat...</td>\n",
       "      <td>Kate and Nate are running late!</td>\n",
       "      <td>NaN</td>\n",
       "      <td>NaN</td>\n",
       "      <td>NaN</td>\n",
       "      <td>by Kate Egan ; illustrated by Dan Yaccarino</td>\n",
       "      <td>NaN</td>\n",
       "      <td>...</td>\n",
       "      <td>제작: 강서영어도서관</td>\n",
       "      <td>N</td>\n",
       "      <td>NaN</td>\n",
       "      <td>NaN</td>\n",
       "      <td>NaN</td>\n",
       "      <td>대체자료종합목록</td>\n",
       "      <td>NaN</td>\n",
       "      <td>NaN</td>\n",
       "      <td>NaN</td>\n",
       "      <td>NaN</td>\n",
       "    </tr>\n",
       "    <tr>\n",
       "      <th>2</th>\n",
       "      <td>NBC202245154</td>\n",
       "      <td>TP2022031775</td>\n",
       "      <td>장애인대체자료</td>\n",
       "      <td>Two bunny buddies[녹음자료] /Kathryn O. Galbraith...</td>\n",
       "      <td>Two bunny buddies</td>\n",
       "      <td>NaN</td>\n",
       "      <td>NaN</td>\n",
       "      <td>NaN</td>\n",
       "      <td>Kathryn O. Galbraith ; Illustrated by Joe Cepeda</td>\n",
       "      <td>NaN</td>\n",
       "      <td>...</td>\n",
       "      <td>제작: 강서영어도서관</td>\n",
       "      <td>N</td>\n",
       "      <td>NaN</td>\n",
       "      <td>NaN</td>\n",
       "      <td>NaN</td>\n",
       "      <td>대체자료종합목록</td>\n",
       "      <td>NaN</td>\n",
       "      <td>NaN</td>\n",
       "      <td>NaN</td>\n",
       "      <td>NaN</td>\n",
       "    </tr>\n",
       "    <tr>\n",
       "      <th>3</th>\n",
       "      <td>NBC202245154</td>\n",
       "      <td>TP2022031799</td>\n",
       "      <td>장애인대체자료</td>\n",
       "      <td>Zelda and Ivy[녹음자료] /by Laura McGee Kvasnosky</td>\n",
       "      <td>Zelda and Ivy</td>\n",
       "      <td>NaN</td>\n",
       "      <td>NaN</td>\n",
       "      <td>NaN</td>\n",
       "      <td>by Laura McGee Kvasnosky</td>\n",
       "      <td>NaN</td>\n",
       "      <td>...</td>\n",
       "      <td>제작: 강서영어도서관</td>\n",
       "      <td>N</td>\n",
       "      <td>NaN</td>\n",
       "      <td>NaN</td>\n",
       "      <td>NaN</td>\n",
       "      <td>대체자료종합목록</td>\n",
       "      <td>NaN</td>\n",
       "      <td>NaN</td>\n",
       "      <td>NaN</td>\n",
       "      <td>NaN</td>\n",
       "    </tr>\n",
       "    <tr>\n",
       "      <th>4</th>\n",
       "      <td>NBC202245154</td>\n",
       "      <td>TP2022006344</td>\n",
       "      <td>장애인대체자료</td>\n",
       "      <td>#생태_소설[전자자료] /이혜원, 우찬제 엮음</td>\n",
       "      <td>#생태_소설</td>\n",
       "      <td>NaN</td>\n",
       "      <td>NaN</td>\n",
       "      <td>NaN</td>\n",
       "      <td>이혜원; 우찬제</td>\n",
       "      <td>NaN</td>\n",
       "      <td>...</td>\n",
       "      <td>제작: 실로암점자도서관</td>\n",
       "      <td>N</td>\n",
       "      <td>NaN</td>\n",
       "      <td>NaN</td>\n",
       "      <td>NaN</td>\n",
       "      <td>대체자료종합목록</td>\n",
       "      <td>NaN</td>\n",
       "      <td>NaN</td>\n",
       "      <td>NaN</td>\n",
       "      <td>NaN</td>\n",
       "    </tr>\n",
       "  </tbody>\n",
       "</table>\n",
       "<p>5 rows × 46 columns</p>\n",
       "</div>"
      ],
      "text/plain": [
       "         국가서지번호      출처기관제어번호     자료유형  \\\n",
       "0  NBC202245154  TP2022009866  장애인대체자료   \n",
       "1  NBC202245154  TP2022031791  장애인대체자료   \n",
       "2  NBC202245154  TP2022031775  장애인대체자료   \n",
       "3  NBC202245154  TP2022031799  장애인대체자료   \n",
       "4  NBC202245154  TP2022006344  장애인대체자료   \n",
       "\n",
       "                                          표제와 책임표시사항  \\\n",
       "0                           5공 남산의 부장들[전자자료] /김충식 지음   \n",
       "1   Kate and Nate are running late![녹음자료] /by Kat...   \n",
       "2   Two bunny buddies[녹음자료] /Kathryn O. Galbraith...   \n",
       "3      Zelda and Ivy[녹음자료] /by Laura McGee Kvasnosky   \n",
       "4                          #생태_소설[전자자료] /이혜원, 우찬제 엮음   \n",
       "\n",
       "                                 제목  부제목   편제   권차  \\\n",
       "0                        5공 남산의 부장들  NaN  NaN  NaN   \n",
       "1   Kate and Nate are running late!  NaN  NaN  NaN   \n",
       "2                 Two bunny buddies  NaN  NaN  NaN   \n",
       "3                     Zelda and Ivy  NaN  NaN  NaN   \n",
       "4                            #생태_소설  NaN  NaN  NaN   \n",
       "\n",
       "                                                 저자  판사항  ...           접근정보  \\\n",
       "0                                               김충식  NaN  ...  제작: 실로암점자도서관    \n",
       "1       by Kate Egan ; illustrated by Dan Yaccarino  NaN  ...    제작: 강서영어도서관   \n",
       "2  Kathryn O. Galbraith ; Illustrated by Joe Cepeda  NaN  ...    제작: 강서영어도서관   \n",
       "3                          by Laura McGee Kvasnosky  NaN  ...    제작: 강서영어도서관   \n",
       "4                                          이혜원; 우찬제  NaN  ...  제작: 실로암점자도서관    \n",
       "\n",
       "  번역 번역원어 정부기관부호 정부간행물등록번호        출처  간행빈도  권차/연월차  ISSN 소장사항  \n",
       "0  N  NaN    NaN       NaN  대체자료종합목록   NaN     NaN   NaN  NaN  \n",
       "1  N  NaN    NaN       NaN  대체자료종합목록   NaN     NaN   NaN  NaN  \n",
       "2  N  NaN    NaN       NaN  대체자료종합목록   NaN     NaN   NaN  NaN  \n",
       "3  N  NaN    NaN       NaN  대체자료종합목록   NaN     NaN   NaN  NaN  \n",
       "4  N  NaN    NaN       NaN  대체자료종합목록   NaN     NaN   NaN  NaN  \n",
       "\n",
       "[5 rows x 46 columns]"
      ]
     },
     "execution_count": 1,
     "metadata": {},
     "output_type": "execute_result"
    }
   ],
   "source": [
    "import pandas as pd\n",
    "\n",
    "df = pd.read_excel(\"./biblio_data_Replacement.xlsx\")\n",
    "\n",
    "# 데이터 확인\n",
    "df.head(5)"
   ]
  },
  {
   "cell_type": "code",
   "execution_count": 2,
   "id": "8a19ba27",
   "metadata": {},
   "outputs": [],
   "source": [
    "data = df.loc[:,['국가서지번호', '출처기관제어번호', '자료유형','표제와 책임표시사항', '제목', '부제목', '저자', '발행처', '발행지역', '발행지코드', '내용유형', '크기', '가격', '본문언어','분야']]"
   ]
  },
  {
   "cell_type": "code",
   "execution_count": 3,
   "id": "e677b2fb",
   "metadata": {},
   "outputs": [
    {
     "data": {
      "text/plain": [
       "국가서지번호        object\n",
       "출처기관제어번호      object\n",
       "자료유형          object\n",
       "표제와 책임표시사항    object\n",
       "제목            object\n",
       "부제목           object\n",
       "저자            object\n",
       "발행처           object\n",
       "발행지역          object\n",
       "발행지코드         object\n",
       "내용유형          object\n",
       "크기            object\n",
       "가격            object\n",
       "본문언어          object\n",
       "분야            object\n",
       "dtype: object"
      ]
     },
     "execution_count": 3,
     "metadata": {},
     "output_type": "execute_result"
    }
   ],
   "source": [
    "data.fillna('No data', inplace=True)\n",
    "# 데이터프레임의 데이터 유형 확인\n",
    "data.dtypes"
   ]
  },
  {
   "cell_type": "code",
   "execution_count": 4,
   "id": "8c891f3b",
   "metadata": {},
   "outputs": [
    {
     "data": {
      "text/plain": [
       "text                     17774\n",
       "spoken word               2414\n",
       "tactile text               587\n",
       "tactile notated music       77\n",
       "Name: 내용유형, dtype: int64"
      ]
     },
     "execution_count": 4,
     "metadata": {},
     "output_type": "execute_result"
    }
   ],
   "source": [
    "data['내용유형'].value_counts().head(60)"
   ]
  },
  {
   "cell_type": "code",
   "execution_count": 5,
   "id": "70a36b98",
   "metadata": {},
   "outputs": [
    {
     "data": {
      "text/plain": [
       "20852"
      ]
     },
     "execution_count": 5,
     "metadata": {},
     "output_type": "execute_result"
    }
   ],
   "source": [
    "len(data)"
   ]
  },
  {
   "cell_type": "code",
   "execution_count": 10,
   "id": "89cc059c",
   "metadata": {},
   "outputs": [
    {
     "data": {
      "image/png": "[encoded data removed]",
      "text/plain": [
       "<Figure size 1000x600 with 1 Axes>"
      ]
     },
     "metadata": {},
     "output_type": "display_data"
    }
   ],
   "source": [
    "import matplotlib.pyplot as plt\n",
    "from matplotlib import font_manager, rc\n",
    "\n",
    "# 한글 폰트 설정 (Windows 환경에서는 다른 폰트를 사용할 수 있음)\n",
    "font_path = \"C:/Windows/Fonts/malgun.ttf\"  # 사용할 한글 폰트 경로\n",
    "font_name = font_manager.FontProperties(fname=font_path).get_name()\n",
    "rc('font', family=font_name)\n",
    "\n",
    "# 발행처 빈도 상위 10개 가져오기\n",
    "top_publishers = data['내용유형'].value_counts()\n",
    "\n",
    "# 그래프 그리기\n",
    "plt.figure(figsize=(10, 6))\n",
    "ax = top_publishers.plot(kind='bar', color='#5ABBFF', edgecolor='black')\n",
    "plt.title('장애인 대체 자료 유형', fontsize=16)\n",
    "plt.xlabel('내용유형', fontsize=12)\n",
    "plt.ylabel('도서 개수', fontsize=12)\n",
    "plt.xticks(rotation=45, ha='right', fontsize=10)\n",
    "plt.yticks(fontsize=10)\n",
    "plt.grid(axis='y', linestyle='--', alpha=0.7)\n",
    "\n",
    "# 그래프에 개수 표시\n",
    "for i, v in enumerate(top_publishers):\n",
    "    ax.text(i, v + 10, str(v), ha='center', va='bottom', fontsize=10)\n",
    "\n",
    "plt.tight_layout()\n",
    "\n",
    "# 그래프 표시\n",
    "plt.show()"
   ]
  },
  {
   "cell_type": "code",
   "execution_count": 7,
   "id": "324bad71",
   "metadata": {},
   "outputs": [],
   "source": [
    "data.fillna('No data', inplace=True)"
   ]
  },
  {
   "cell_type": "code",
   "execution_count": 8,
   "id": "85a9905b",
   "metadata": {},
   "outputs": [],
   "source": [
    "data.to_csv('biblio_data_Replacement_updated_data.csv', index=False, encoding='utf-8-sig')"
   ]
  },
  {
   "cell_type": "code",
   "execution_count": null,
   "id": "c6ab9880",
   "metadata": {},
   "outputs": [],
   "source": []
  },
  {
   "cell_type": "code",
   "execution_count": null,
   "id": "f0ead38e",
   "metadata": {},
   "outputs": [],
   "source": []
  },
  {
   "cell_type": "code",
   "execution_count": null,
   "id": "985ae66a",
   "metadata": {},
   "outputs": [],
   "source": []
  }
 ],
 "metadata": {
  "kernelspec": {
   "display_name": "Python 3 (ipykernel)",
   "language": "python",
   "name": "python3"
  },
  "language_info": {
   "codemirror_mode": {
    "name": "ipython",
    "version": 3
   },
   "file_extension": ".py",
   "mimetype": "text/x-python",
   "name": "python",
   "nbconvert_exporter": "python",
   "pygments_lexer": "ipython3",
   "version": "3.10.9"
  }
 },
 "nbformat": 4,
 "nbformat_minor": 5
}
