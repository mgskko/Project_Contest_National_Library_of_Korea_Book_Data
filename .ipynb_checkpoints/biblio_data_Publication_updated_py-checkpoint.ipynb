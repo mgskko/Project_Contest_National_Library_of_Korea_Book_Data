{
 "cells": [
  {
   "cell_type": "code",
   "execution_count": 1,
   "id": "eb0b28e2",
   "metadata": {},
   "outputs": [
    {
     "name": "stderr",
     "output_type": "stream",
     "text": [
      "C:\\Users\\User\\anaconda3\\lib\\site-packages\\openpyxl\\styles\\stylesheet.py:226: UserWarning: Workbook contains no default style, apply openpyxl's default\n",
      "  warn(\"Workbook contains no default style, apply openpyxl's default\")\n"
     ]
    },
    {
     "data": {
      "text/html": [
       "<div>\n",
       "<style scoped>\n",
       "    .dataframe tbody tr th:only-of-type {\n",
       "        vertical-align: middle;\n",
       "    }\n",
       "\n",
       "    .dataframe tbody tr th {\n",
       "        vertical-align: top;\n",
       "    }\n",
       "\n",
       "    .dataframe thead th {\n",
       "        text-align: right;\n",
       "    }\n",
       "</style>\n",
       "<table border=\"1\" class=\"dataframe\">\n",
       "  <thead>\n",
       "    <tr style=\"text-align: right;\">\n",
       "      <th></th>\n",
       "      <th>국가서지번호</th>\n",
       "      <th>출처기관제어번호</th>\n",
       "      <th>자료유형</th>\n",
       "      <th>표제와 책임표시사항</th>\n",
       "      <th>제목</th>\n",
       "      <th>부제목</th>\n",
       "      <th>편제</th>\n",
       "      <th>권차</th>\n",
       "      <th>저자</th>\n",
       "      <th>판사항</th>\n",
       "      <th>...</th>\n",
       "      <th>접근정보</th>\n",
       "      <th>번역</th>\n",
       "      <th>번역원어</th>\n",
       "      <th>정부기관부호</th>\n",
       "      <th>정부간행물등록번호</th>\n",
       "      <th>출처</th>\n",
       "      <th>간행빈도</th>\n",
       "      <th>권차/연월차</th>\n",
       "      <th>ISSN</th>\n",
       "      <th>소장사항</th>\n",
       "    </tr>\n",
       "  </thead>\n",
       "  <tbody>\n",
       "    <tr>\n",
       "      <th>0</th>\n",
       "      <td>NBC202229510</td>\n",
       "      <td>KMO202257779</td>\n",
       "      <td>공공간행물</td>\n",
       "      <td>'19~'21 아프리카돼지열병 발생 상황 분석(방역 백서) / 연구기관: 한국농촌경...</td>\n",
       "      <td>'19~'21 아프리카돼지열병 발생 상황 분석(방역 백서)</td>\n",
       "      <td>NaN</td>\n",
       "      <td>NaN</td>\n",
       "      <td>NaN</td>\n",
       "      <td>정민국(KAC201209965);이용건(KAC201404091);최진용(KAC201...</td>\n",
       "      <td>NaN</td>\n",
       "      <td>...</td>\n",
       "      <td>소장 : 국립중앙도서관</td>\n",
       "      <td>N</td>\n",
       "      <td>NaN</td>\n",
       "      <td>EY</td>\n",
       "      <td>11-1543000-004137-01</td>\n",
       "      <td>국립중앙도서관</td>\n",
       "      <td>NaN</td>\n",
       "      <td>NaN</td>\n",
       "      <td>NaN</td>\n",
       "      <td>NaN</td>\n",
       "    </tr>\n",
       "    <tr>\n",
       "      <th>1</th>\n",
       "      <td>NBC202229510</td>\n",
       "      <td>KMO202266256</td>\n",
       "      <td>공공간행물</td>\n",
       "      <td>'21년 국가측량시행계획 추진실적 평가 및 컨설팅 등에 관한 연구 / 국토교통부 국...</td>\n",
       "      <td>'21년 국가측량시행계획 추진실적 평가 및 컨설팅 등에 관한 연구</td>\n",
       "      <td>NaN</td>\n",
       "      <td>NaN</td>\n",
       "      <td>NaN</td>\n",
       "      <td>국토지리정보원(KAB201500528)</td>\n",
       "      <td>NaN</td>\n",
       "      <td>...</td>\n",
       "      <td>소장 : 국립중앙도서관</td>\n",
       "      <td>N</td>\n",
       "      <td>NaN</td>\n",
       "      <td>PI</td>\n",
       "      <td>11-1613436-000308-01</td>\n",
       "      <td>국립중앙도서관</td>\n",
       "      <td>NaN</td>\n",
       "      <td>NaN</td>\n",
       "      <td>NaN</td>\n",
       "      <td>NaN</td>\n",
       "    </tr>\n",
       "    <tr>\n",
       "      <th>2</th>\n",
       "      <td>NBC202229510</td>\n",
       "      <td>KMO202260018</td>\n",
       "      <td>공공간행물</td>\n",
       "      <td>'21년 추진실적 및 '22년 시행계획 : 농어업인의 삶의 질 향상 및 농어촌 지역...</td>\n",
       "      <td>'21년 추진실적 및 '22년 시행계획</td>\n",
       "      <td>농어업인의 삶의 질 향상 및 농어촌 지역 개발</td>\n",
       "      <td>NaN</td>\n",
       "      <td>NaN</td>\n",
       "      <td>농림축산식품부(KAB201400071)</td>\n",
       "      <td>NaN</td>\n",
       "      <td>...</td>\n",
       "      <td>소장 : 국립중앙도서관</td>\n",
       "      <td>N</td>\n",
       "      <td>NaN</td>\n",
       "      <td>EY</td>\n",
       "      <td>11-1543000-001785-10</td>\n",
       "      <td>국립중앙도서관</td>\n",
       "      <td>NaN</td>\n",
       "      <td>NaN</td>\n",
       "      <td>NaN</td>\n",
       "      <td>NaN</td>\n",
       "    </tr>\n",
       "    <tr>\n",
       "      <th>3</th>\n",
       "      <td>NBC202229510</td>\n",
       "      <td>KMO202262275</td>\n",
       "      <td>공공간행물</td>\n",
       "      <td>'돼지' 바이러스성 설사병 대응 연구 : 가축질병대응기술개발사업 2021년도 최종보...</td>\n",
       "      <td>'돼지' 바이러스성 설사병 대응 연구</td>\n",
       "      <td>가축질병대응기술개발사업 2021년도 최종보고서</td>\n",
       "      <td>NaN</td>\n",
       "      <td>NaN</td>\n",
       "      <td>김주헌;탁동섭(KAC201846471);코미팜(KAB202200372);전북대학교....</td>\n",
       "      <td>NaN</td>\n",
       "      <td>...</td>\n",
       "      <td>소장 : 국립중앙도서관</td>\n",
       "      <td>N</td>\n",
       "      <td>NaN</td>\n",
       "      <td>EY</td>\n",
       "      <td>11-1543000-004139-01</td>\n",
       "      <td>국립중앙도서관</td>\n",
       "      <td>NaN</td>\n",
       "      <td>NaN</td>\n",
       "      <td>NaN</td>\n",
       "      <td>NaN</td>\n",
       "    </tr>\n",
       "    <tr>\n",
       "      <th>4</th>\n",
       "      <td>NBC202229510</td>\n",
       "      <td>KMO202242174</td>\n",
       "      <td>공공간행물</td>\n",
       "      <td>'신(新) 영일동맹'의 전망 : 20세기 초 영일동맹과의 역사적 비교 / 김종학</td>\n",
       "      <td>'신(新) 영일동맹'의 전망</td>\n",
       "      <td>20세기 초 영일동맹과의 역사적 비교</td>\n",
       "      <td>NaN</td>\n",
       "      <td>NaN</td>\n",
       "      <td>김종학</td>\n",
       "      <td>NaN</td>\n",
       "      <td>...</td>\n",
       "      <td>소장 : 국립중앙도서관</td>\n",
       "      <td>N</td>\n",
       "      <td>NaN</td>\n",
       "      <td>CD</td>\n",
       "      <td>11-1261021-000001-03</td>\n",
       "      <td>국립중앙도서관</td>\n",
       "      <td>NaN</td>\n",
       "      <td>NaN</td>\n",
       "      <td>NaN</td>\n",
       "      <td>NaN</td>\n",
       "    </tr>\n",
       "  </tbody>\n",
       "</table>\n",
       "<p>5 rows × 46 columns</p>\n",
       "</div>"
      ],
      "text/plain": [
       "         국가서지번호      출처기관제어번호   자료유형  \\\n",
       "0  NBC202229510  KMO202257779  공공간행물   \n",
       "1  NBC202229510  KMO202266256  공공간행물   \n",
       "2  NBC202229510  KMO202260018  공공간행물   \n",
       "3  NBC202229510  KMO202262275  공공간행물   \n",
       "4  NBC202229510  KMO202242174  공공간행물   \n",
       "\n",
       "                                          표제와 책임표시사항  \\\n",
       "0  '19~'21 아프리카돼지열병 발생 상황 분석(방역 백서) / 연구기관: 한국농촌경...   \n",
       "1  '21년 국가측량시행계획 추진실적 평가 및 컨설팅 등에 관한 연구 / 국토교통부 국...   \n",
       "2  '21년 추진실적 및 '22년 시행계획 : 농어업인의 삶의 질 향상 및 농어촌 지역...   \n",
       "3  '돼지' 바이러스성 설사병 대응 연구 : 가축질병대응기술개발사업 2021년도 최종보...   \n",
       "4       '신(新) 영일동맹'의 전망 : 20세기 초 영일동맹과의 역사적 비교 / 김종학   \n",
       "\n",
       "                                     제목                        부제목   편제   권차  \\\n",
       "0      '19~'21 아프리카돼지열병 발생 상황 분석(방역 백서)                        NaN  NaN  NaN   \n",
       "1  '21년 국가측량시행계획 추진실적 평가 및 컨설팅 등에 관한 연구                        NaN  NaN  NaN   \n",
       "2                 '21년 추진실적 및 '22년 시행계획  농어업인의 삶의 질 향상 및 농어촌 지역 개발  NaN  NaN   \n",
       "3                  '돼지' 바이러스성 설사병 대응 연구  가축질병대응기술개발사업 2021년도 최종보고서  NaN  NaN   \n",
       "4                       '신(新) 영일동맹'의 전망       20세기 초 영일동맹과의 역사적 비교  NaN  NaN   \n",
       "\n",
       "                                                  저자  판사항  ...          접근정보  \\\n",
       "0  정민국(KAC201209965);이용건(KAC201404091);최진용(KAC201...  NaN  ...  소장 : 국립중앙도서관   \n",
       "1                              국토지리정보원(KAB201500528)  NaN  ...  소장 : 국립중앙도서관   \n",
       "2                              농림축산식품부(KAB201400071)  NaN  ...  소장 : 국립중앙도서관   \n",
       "3  김주헌;탁동섭(KAC201846471);코미팜(KAB202200372);전북대학교....  NaN  ...  소장 : 국립중앙도서관   \n",
       "4                                                김종학  NaN  ...  소장 : 국립중앙도서관   \n",
       "\n",
       "  번역 번역원어 정부기관부호             정부간행물등록번호       출처 간행빈도  권차/연월차  ISSN 소장사항  \n",
       "0  N  NaN     EY  11-1543000-004137-01  국립중앙도서관  NaN     NaN   NaN  NaN  \n",
       "1  N  NaN     PI  11-1613436-000308-01  국립중앙도서관  NaN     NaN   NaN  NaN  \n",
       "2  N  NaN     EY  11-1543000-001785-10  국립중앙도서관  NaN     NaN   NaN  NaN  \n",
       "3  N  NaN     EY  11-1543000-004139-01  국립중앙도서관  NaN     NaN   NaN  NaN  \n",
       "4  N  NaN     CD  11-1261021-000001-03  국립중앙도서관  NaN     NaN   NaN  NaN  \n",
       "\n",
       "[5 rows x 46 columns]"
      ]
     },
     "execution_count": 1,
     "metadata": {},
     "output_type": "execute_result"
    }
   ],
   "source": [
    "import pandas as pd\n",
    "\n",
    "df = pd.read_excel(\"./biblio_data_Publication.xlsx\")\n",
    "\n",
    "# 데이터 확인\n",
    "df.head(5)"
   ]
  },
  {
   "cell_type": "code",
   "execution_count": 2,
   "id": "fb0fe0a1",
   "metadata": {},
   "outputs": [],
   "source": [
    "data = df.loc[:,['국가서지번호', '출처기관제어번호', '자료유형','표제와 책임표시사항', '제목', '부제목', '저자', '발행처', '발행지역', '발행지코드', '내용유형', '크기', '가격', '본문언어','분야']]"
   ]
  },
  {
   "cell_type": "code",
   "execution_count": 3,
   "id": "866e7582",
   "metadata": {},
   "outputs": [
    {
     "data": {
      "text/plain": [
       "6273"
      ]
     },
     "execution_count": 3,
     "metadata": {},
     "output_type": "execute_result"
    }
   ],
   "source": [
    "len(data)"
   ]
  },
  {
   "cell_type": "code",
   "execution_count": 4,
   "id": "9bb66885",
   "metadata": {},
   "outputs": [
    {
     "data": {
      "text/plain": [
       "array(['[세종]', '수원', '서울', '[서울]', '[울산]', '인천', '세종', '원주', '안동', '대전',\n",
       "       '광주', '담양군', '부산', '밀양', '[수원]', '청주', '[청주]', '[대전]', '완주군',\n",
       "       '예산군', '신안군', '과천', '진천', '고양', '[과천]', '상주', '서천군', '김천', '울산',\n",
       "       '나주', '전주', '[춘천]', '[창원]', '[무안군]', '[부산]', '[제주]', '[인천]',\n",
       "       '[안동]', '[전주]', '[홍성군]', '[원주]', '[창녕군]', '고창군', '천안', '아산', '서산',\n",
       "       '홍성', '예산', '태안', '당진', '[세종] ', '양평군', '[고양]', '서귀포', '춘천',\n",
       "       '[화성]', '대구', '[나주]', '제주', '[서귀포]', '[익산]', '완주군 ', '[광주]',\n",
       "       '[완주군]', '단양', '익산', '[강릉]', '창원', '[고창군]', '[대구]', '공주', '남원',\n",
       "       '[예산군]', '군산', '[김천]', '충주', '경주', '성남', '[순창군]', '화성', '세종 ',\n",
       "       '대구 ', '[아산]', 'Seoul', '음성군', '진안군', '진주', '화천읍', '횡성군', '영월군',\n",
       "       '[성남]', '서울 ', '파주', '김해', '강진군', '[산청군]', '강릉', '인제군', '[칠곡군]',\n",
       "       '함양군', '[김해]', '[진주]', '[밀양]', '보은군', '[부여군]', '[양산]', '홍성군',\n",
       "       '[함안군]', '[임실군]', '임실군', '[Seoul]', 'Incheon', '[부안군]', '[해남군]',\n",
       "       '[태백]', '[구례군]', '포천', '영주', '삼척', '무안군', '순천시', '봉화군', '영양군',\n",
       "       '[파주]', '[충주]', '양산', '양주', '[완도군]', '[김제]', '남양주', '제천', '군위군',\n",
       "       '[계룡]', '[무주군]', '여수', '순천', '구미', '[Sejong]', '[Cheongju]',\n",
       "       'Wanju-gun', '부천', 'Sejong', '[한국]', '포항', '양구군', '[하남]', '[진천군]',\n",
       "       '산청군', '[동해]', '[Gwacheon]', '[공주]', '해남군', '무주군', '부안군', '정읍',\n",
       "       '[평택]', '가평군', '[거제]', '동해', '[서천군]', '[사천]', '안산', '[합천군]', '진천군',\n",
       "       '수원 ', 'Gimcheon-si', 'Daejeon', '[Jeonju]', '함평군', '대전:성남',\n",
       "       '[Pocheon]', '[Incheon]', 'Asan', 'Goyang', '[시흥]', '[Daejeon]',\n",
       "       '首尔', 'ソウル', '[영주]', '[경주]', '영천', '경기도', '평창군', '광양', '[홍천군]',\n",
       "       '강화군', '진천군 ', '경산', '안동 ', '목포', '성주군', '고흥군', '고흥', '곡성군', '남해군',\n",
       "       '[진도군]', '[군산]', '구례군', '[괴산군]', '[옥천군]', '[봉화군]', '하남', '김포',\n",
       "       '나주시', '[영광군]', '통영', '대전 ', '[인제군]', '원주 ', '[태안군]', '세종시', '이천',\n",
       "       '[당진]', '[고령군]', '영암군', '[목포]', '[고흥군]', '[논산]', '[대전] ', '[양주]',\n",
       "       '[남양주]', '보성군', '부산 ', '부여군', '[부천]', '창녕군', '안성', '[여수]', '성주 ',\n",
       "       '[성주군]', '여주', '[속초]', '속초', '[서산]', '[영월군]', '[신안군]', '[안산]',\n",
       "       '평택', '양양군', '[양양군]', '문경', '[포천]', '경상남도', '예천', '[예천군]', '예천군',\n",
       "       '용인', '[천안]', '[서울] ', '의성군', '의령', '[보령]', '의왕', '의정부', '경상북도 ',\n",
       "       '[이천]', '[광양]', '구리', '[장흥군]', '[정선군]', '[정읍]', '[진안군]', '진도군',\n",
       "       '[청양군]', '양평', '금산군', '[안성]', '계룡', '[곡성군]', '[영양군]', '홍천군', '화순군',\n",
       "       '[화천군]'], dtype=object)"
      ]
     },
     "execution_count": 4,
     "metadata": {},
     "output_type": "execute_result"
    }
   ],
   "source": [
    "data['발행지역'].unique()"
   ]
  },
  {
   "cell_type": "code",
   "execution_count": 5,
   "id": "5d8de1f4",
   "metadata": {},
   "outputs": [],
   "source": [
    "data['발행지역'] = data['발행지역'].str.replace(r'^Seoul.*', '서울', regex=True)\n",
    "data['발행지역'] = data['발행지역'].str.replace(r'^Anseong.*', '안성', regex=True)\n",
    "data['발행지역'] = data['발행지역'].str.replace(r'^[목포].*', '목포', regex=True)\n",
    "data['발행지역'] = data['발행지역'].str.replace(r'^Jeonju.*', '전주', regex=True)\n",
    "data['발행지역'] = data['발행지역'].str.replace(r'^[여주].*', '여주', regex=True)\n",
    "data['발행지역'] = data['발행지역'].str.replace(r'^[담양군].*', '담양', regex=True)\n",
    "data['발행지역'] = data['발행지역'].str.replace(r'^[목포].*', '목포', regex=True)\n",
    "data['발행지역'] = data['발행지역'].str.replace(r'^완주군서울.*', '완주', regex=True)\n",
    "data['발행지역'] = data['발행지역'].str.replace(r'^울산영암군.*', '울산', regex=True)\n",
    "data['발행지역'] = data['발행지역'].str.replace(r'^[진주].*', '진주', regex=True)\n",
    "data['발행지역'] = data['발행지역'].str.replace(r'^[파주].*', '파주', regex=True)\n",
    "data['발행지역'] = data['발행지역'].str.replace(r'^[청주].*', '청주', regex=True)\n",
    "data['발행지역'] = data['발행지역'].str.replace(r'^서울:.*', '서울', regex=True)\n",
    "data['발행지역'] = data['발행지역'].str.replace(r'^포천군.*', '포천', regex=True)\n",
    "data['발행지역'] = data['발행지역'].str.replace(r'^[여주].*', '여주', regex=True)\n",
    "data['발행지역'] = data['발행지역'].str.replace(r'^[김해].*', '김해', regex=True)\n",
    "data['발행지역'] = data['발행지역'].str.replace(r'^서울.*', '서울', regex=True)\n",
    "data['발행지역'] = data['발행지역'].str.replace(r'^남제주군.*', '제주', regex=True)\n",
    "data['발행지역'] = data['발행지역'].str.replace(r'^[대전][서울].*', '대전', regex=True)\n",
    "data['발행지역'] = data['발행지역'].str.replace(r'^정읍시.*', '정읍', regex=True)\n",
    "data['발행지역'] = data['발행지역'].str.replace(r'^경산군.*', '경산', regex=True)\n",
    "data['발행지역'] = data['발행지역'].str.replace(r'^용인시.*', '용인', regex=True)\n",
    "data['발행지역'] = data['발행지역'].str.replace(r'^대전서울.*', '대전', regex=True)\n",
    "data['발행지역'] = data['발행지역'].str.replace(r'^양주시.*', '양주', regex=True)\n",
    "data['발행지역'] = data['발행지역'].str.replace(r'^안성시.*', '안성', regex=True)\n",
    "data['발행지역'] = data['발행지역'].str.replace(r'^[창원].*', '창원', regex=True)\n",
    "data['발행지역'] = data['발행지역'].str.replace(r'^[춘천].*', '춘천', regex=True)\n",
    "data['발행지역'] = data['발행지역'].str.replace(r'^[부산].*', '부산', regex=True)\n",
    "data['발행지역'] = data['발행지역'].str.replace(r'^광주시.*', '광주', regex=True)\n",
    "data['발행지역'] = data['발행지역'].str.replace(r'^청주시.*', '청주', regex=True)\n",
    "data['발행지역'] = data['발행지역'].str.replace(r'^[파주].*', '파주', regex=True)\n",
    "data['발행지역'] = data['발행지역'].str.replace(r'^[청주].*', '청주', regex=True)\n",
    "data['발행지역'] = data['발행지역'].str.replace(r'^[대구].*', '대구', regex=True)\n",
    "data['발행지역'] = data['발행지역'].str.replace(r'^[경남].*', '경남', regex=True)\n",
    "data['발행지역'] = data['발행지역'].str.replace(r'^[남해군].*', '남해', regex=True)\n",
    "data['발행지역'] = data['발행지역'].str.replace(r'^[김해].*', '김해', regex=True)\n",
    "data['발행지역'] = data['발행지역'].str.replace(r'^[화성].*', '화성', regex=True)\n",
    "data['발행지역'] = data['발행지역'].str.replace(r'^과천인천.*', '과천', regex=True)\n",
    "data['발행지역'] = data['발행지역'].str.replace(r'^[진주].*', '진주', regex=True)\n",
    "data['발행지역'] = data['발행지역'].str.replace(r'^[담양군].*', '담양', regex=True)\n",
    "data['발행지역'] = data['발행지역'].str.replace(r'^Jeonju.*', '전주', regex=True)\n",
    "data['발행지역'] = data['발행지역'].str.replace(r'^[여주].*', '여주', regex=True)\n",
    "data['발행지역'] = data['발행지역'].str.replace(r'^Daejeon.*', '대전', regex=True)\n",
    "data['발행지역'] = data['발행지역'].str.replace(r'^Busan.*', '부산', regex=True)\n",
    "data['발행지역'] = data['발행지역'].str.replace(r'^Chungju.*', '청주', regex=True)\n",
    "data['발행지역'] = data['발행지역'].str.replace(r'^광주시.*', '광주', regex=True)\n",
    "data['발행지역'] = data['발행지역'].str.replace(r'^청주시.*', '청주', regex=True)\n",
    "data['발행지역'] = data['발행지역'].str.replace(r'^Asan.*', '아산', regex=True)\n",
    "data['발행지역'] = data['발행지역'].str.replace(r'^Jinju.*', '진주', regex=True)\n",
    "data['발행지역'] = data['발행지역'].str.replace(r'^Suwon.*', '수원', regex=True)\n",
    "data['발행지역'] = data['발행지역'].str.replace(r'^Seongnam.*', '성남', regex=True)\n",
    "data['발행지역'] = data['발행지역'].str.replace(r'^새종.*', '세종', regex=True)\n",
    "data['발행지역'] = data['발행지역'].str.replace(r'^濟州.*', '제주', regex=True)\n",
    "data['발행지역'] = data['발행지역'].str.replace(r'^Sejong.*', '세종', regex=True)\n",
    "data['발행지역'] = data['발행지역'].str.replace(r'^Anyang.*', '안양', regex=True)\n",
    "data['발행지역'] = data['발행지역'].str.replace(r'^Daegu.*', '대구', regex=True)\n",
    "data['발행지역'] = data['발행지역'].str.replace(r'^과천.*', '과천', regex=True)\n",
    "data['발행지역'] = data['발행지역'].str.replace(r'^Yongin.*', '영진', regex=True)\n",
    "data['발행지역'] = data['발행지역'].str.replace(r'^Wonju.*', '원주', regex=True)\n",
    "data['발행지역'] = data['발행지역'].str.replace(r'^Gwangju.*', '광주', regex=True)\n",
    "data['발행지역'] = data['발행지역'].str.replace(r'^仁川.*', '인천', regex=True)\n",
    "data['발행지역'] = data['발행지역'].str.replace(r'^Gwacheon.*', '과천', regex=True)\n",
    "data['발행지역'] = data['발행지역'].str.replace(r'^Masan.*', '마산', regex=True)\n",
    "data['발행지역'] = data['발행지역'].str.replace(r'^Incheon.*', '인천', regex=True)\n",
    "data['발행지역'] = data['발행지역'].str.replace(r'^Andong.*', '안동', regex=True)\n",
    "data['발행지역'] = data['발행지역'].str.replace(r'^Cheongju.*', '청주', regex=True)\n",
    "data['발행지역'] = data['발행지역'].str.replace(r'^Gyeongsan.*', '경산', regex=True)\n",
    "data['발행지역'] = data['발행지역'].str.replace(r'^Guri.*', '구리', regex=True)\n",
    "data['발행지역'] = data['발행지역'].str.replace(r'^釜山.*', '부산', regex=True)\n",
    "data['발행지역'] = data['발행지역'].str.replace(r'^Anyang.*', '안양', regex=True)\n",
    "data['발행지역'] = data['발행지역'].str.replace(r'^Cheonan.*', '천안', regex=True)\n",
    "data['발행지역'] = data['발행지역'].str.replace(r'^Jeju.*', '제주', regex=True)\n",
    "data['발행지역'] = data['발행지역'].str.replace(r'^강원도.*', '강원', regex=True)\n",
    "data['발행지역'] = data['발행지역'].str.replace(r'^인천.*', '인천', regex=True)\n",
    "data['발행지역'] = data['발행지역'].str.replace(r'^Ulsan.*', '울산', regex=True)\n",
    "data['발행지역'] = data['발행지역'].str.replace(r'^Tongyeong.*', '통영', regex=True)\n",
    "data['발행지역'] = data['발행지역'].str.replace(r'^광명시.*', '광명', regex=True)\n",
    "data['발행지역'] = data['발행지역'].str.replace(r'^ソウル.*', '서울', regex=True)\n",
    "data['발행지역'] = data['발행지역'].str.replace(r'^軍威郡.*', '군위', regex=True)\n",
    "data['발행지역'] = data['발행지역'].str.replace(r'^愛知.*', '아이치현', regex=True)\n",
    "data['발행지역'] = data['발행지역'].str.replace(r'^영주시.*', '영주', regex=True)\n",
    "data['발행지역'] = data['발행지역'].str.replace(r'^高城郡.*', '고성', regex=True)\n",
    "data['발행지역'] = data['발행지역'].str.replace(r'^제주국보문인협회.*', '제주', regex=True)\n",
    "data['발행지역'] = data['발행지역'].str.replace(r'^Goyang.*', '고양', regex=True)\n",
    "data['발행지역'] = data['발행지역'].str.replace(r'^Daejon.*', '대전', regex=True)\n",
    "data['발행지역'] = data['발행지역'].str.replace(r'^Gunsan.*', '군산', regex=True)\n",
    "data['발행지역'] = data['발행지역'].str.replace(r'^Seogwipo.*', '서귀포', regex=True)\n",
    "data['발행지역'] = data['발행지역'].str.replace(r'^愛知.*', '아이치현', regex=True)\n",
    "data['발행지역'] = data['발행지역'].str.replace(r'^慶山.*', '경산', regex=True)\n",
    "data['발행지역'] = data['발행지역'].str.replace(r'^南海.*', '남해', regex=True)\n",
    "data['발행지역'] = data['발행지역'].str.replace(r'^首尔.*', '서울', regex=True)\n",
    "data['발행지역'] = data['발행지역'].str.replace(r'^Ansan.*', '안산', regex=True)\n",
    "data['발행지역'] = data['발행지역'].str.replace(r'^Daejon.*', '대전', regex=True)\n",
    "data['발행지역'] = data['발행지역'].str.replace(r'^Chuncheon.*', '춘천', regex=True)\n",
    "data['발행지역'] = data['발행지역'].str.replace(r'^光州.*', '광주', regex=True)\n",
    "data['발행지역'] = data['발행지역'].str.replace(r'^大邱.*', '대구', regex=True)\n",
    "data['발행지역'] = data['발행지역'].str.replace(r'^ .*', '발행지불명', regex=True)\n",
    "data['발행지역'] = data['발행지역'].str.replace(r'^Pocheon.*', '포천', regex=True)\n",
    "data['발행지역'] = data['발행지역'].str.replace(r'^Hwaseong.*', '화성', regex=True)\n",
    "data['발행지역'] = data['발행지역'].str.replace(r'^Seocheon.*', '서천', regex=True)\n",
    "data['발행지역'] = data['발행지역'].str.replace(r'^Suncheon.*', '순천', regex=True)\n",
    "data['발행지역'] = data['발행지역'].str.replace(r'^Тэгу.*', '대구', regex=True)\n",
    "data['발행지역'] = data['발행지역'].str.replace(r'^光州.*', '광주', regex=True)\n",
    "data['발행지역'] = data['발행지역'].str.replace(r'^淸州.*', '청주', regex=True)\n",
    "data['발행지역'] = data['발행지역'].str.replace(r'^ .*', '발행지불명', regex=True)\n",
    "data['발행지역'] = data['발행지역'].str.replace(r'^Pocheon.*', '포천', regex=True)\n",
    "data['발행지역'] = data['발행지역'].str.replace(r'^Hwaseong.*', '화성', regex=True)\n",
    "data['발행지역'] = data['발행지역'].str.replace(r'^Wanju.*', '완주', regex=True)\n",
    "data['발행지역'] = data['발행지역'].str.replace(r'^Gimcheon.*', '김천', regex=True)"
   ]
  },
  {
   "cell_type": "code",
   "execution_count": 6,
   "id": "29076e5d",
   "metadata": {},
   "outputs": [
    {
     "name": "stdout",
     "output_type": "stream",
     "text": [
      "0         \n",
      "1       수원\n",
      "2         \n",
      "3         \n",
      "4       서울\n",
      "        ..\n",
      "6268      \n",
      "6269    김해\n",
      "6270    광주\n",
      "6271    용인\n",
      "6272    용인\n",
      "Name: 발행지역, Length: 6273, dtype: object\n"
     ]
    }
   ],
   "source": [
    "import re\n",
    "\n",
    "\n",
    "# 대괄호를 제거하는 정규식 패턴\n",
    "pattern = r'\\[.*?\\]'\n",
    "\n",
    "# 대괄호 제거\n",
    "data['발행지역'] = [re.sub(pattern, '', location) for location in data['발행지역']]\n",
    "data['발행지역'] = [location[:-1] if location.endswith('군') else location for location in data['발행지역']]\n",
    "print(data['발행지역'])\n"
   ]
  },
  {
   "cell_type": "code",
   "execution_count": 7,
   "id": "7084d36c",
   "metadata": {},
   "outputs": [
    {
     "data": {
      "text/plain": [
       "array(['', '수원', '서울', '인천', '세종', '창원', '안동', '대구', '광주', '담양', '부산',\n",
       "       '밀양', '청주', '완주', '예산', '신안', '과천', '진주', '고양', '상주', '서천', '김해',\n",
       "       '울산', '나주', '전주', '고창', '춘천', '아산', '서산', '홍성', '태안', '당진', ' ',\n",
       "       '서귀포', '제주', '완주군 ', '단양', '익산', '공주', '경남', '충주', '화성', '세종 ',\n",
       "       '음성', '횡성', '영월', '파주', '강진', '강릉', '인제', '함양', '보은', '임실', '목포',\n",
       "       '영주', '삼척', '무안', '순천시', '봉화', '영양', '제천', '여주', '순천', '무주', '정읍',\n",
       "       '가평', '동해', '안산', '수원 ', '김천', '대전', '함평', '영천', '평창', '광양', '강화',\n",
       "       '안동 ', '고흥', '곡성', '하남', '나주시', '통영', '세종시', '이천', '영암', '보성',\n",
       "       '안성', '속초', '평택', '문경', '예천', '용인', '의성', '의령', '의왕', '의정부', '금산',\n",
       "       '계룡', '홍천'], dtype=object)"
      ]
     },
     "execution_count": 7,
     "metadata": {},
     "output_type": "execute_result"
    }
   ],
   "source": [
    "data['발행지역'].unique()"
   ]
  },
  {
   "cell_type": "code",
   "execution_count": 8,
   "id": "e9446916",
   "metadata": {},
   "outputs": [
    {
     "data": {
      "text/plain": [
       "농업,농학                929\n",
       "교육학                  902\n",
       "공학,공업일반,토목공학,환경공학    604\n",
       "경제학                  535\n",
       "행정학                  405\n",
       "Name: 분야, dtype: int64"
      ]
     },
     "execution_count": 8,
     "metadata": {},
     "output_type": "execute_result"
    }
   ],
   "source": [
    "data['분야'].value_counts().head()"
   ]
  },
  {
   "cell_type": "code",
   "execution_count": 9,
   "id": "011ea0d2",
   "metadata": {},
   "outputs": [
    {
     "data": {
      "text/plain": [
       "농림축산식품부             442\n",
       "충청남도교육청교육연수원        152\n",
       "경상북도교육청연수원          144\n",
       "국립산림과학원             131\n",
       "보건복지부                91\n",
       "국립외교원 외교안보연구소        79\n",
       "국회예산정책처              74\n",
       "과학기술정보통신부            73\n",
       "한국토지주택공사 토지주택연구원     64\n",
       "서울특별시                62\n",
       "Name: 발행처, dtype: int64"
      ]
     },
     "execution_count": 9,
     "metadata": {},
     "output_type": "execute_result"
    }
   ],
   "source": [
    "data['발행처'].value_counts().head(10)"
   ]
  },
  {
   "cell_type": "code",
   "execution_count": 13,
   "id": "542d8151",
   "metadata": {},
   "outputs": [
    {
     "data": {
      "image/png": "[encoded data removed]",
      "text/plain": [
       "<Figure size 1000x600 with 1 Axes>"
      ]
     },
     "metadata": {},
     "output_type": "display_data"
    }
   ],
   "source": [
    "import matplotlib.pyplot as plt\n",
    "from matplotlib import font_manager, rc\n",
    "\n",
    "# 한글 폰트 설정 (Windows 환경에서는 다른 폰트를 사용할 수 있음)\n",
    "font_path = \"C:/Windows/Fonts/malgun.ttf\"  # 사용할 한글 폰트 경로\n",
    "font_name = font_manager.FontProperties(fname=font_path).get_name()\n",
    "rc('font', family=font_name)\n",
    "\n",
    "# 발행지역 빈도 상위 10개 가져오기\n",
    "top_locations = data['발행지역'].value_counts().iloc[1:11]  # 2부터 11까지의 데이터를 가져옴\n",
    "\n",
    "# 그래프 그리기\n",
    "plt.figure(figsize=(10, 6))\n",
    "ax = top_locations.plot(kind='bar', color='#5ABBFF', edgecolor='black')\n",
    "plt.title('발행지역 상위 10개의 도서 개수', fontsize=16)\n",
    "plt.xlabel('발행지역', fontsize=12)\n",
    "plt.ylabel('도서 개수', fontsize=12)\n",
    "plt.xticks(rotation=45, ha='right', fontsize=10)\n",
    "plt.yticks(fontsize=10)\n",
    "plt.grid(axis='y', linestyle='--', alpha=0.7)\n",
    "\n",
    "# 그래프에 개수 표시\n",
    "for i, v in enumerate(top_locations):\n",
    "    ax.text(i, v + 10, str(v), ha='center', va='bottom', fontsize=10)\n",
    "\n",
    "plt.tight_layout()\n",
    "\n",
    "# 그래프 표시\n",
    "plt.show()\n"
   ]
  },
  {
   "cell_type": "code",
   "execution_count": 11,
   "id": "b0091160",
   "metadata": {
    "scrolled": true
   },
   "outputs": [
    {
     "name": "stdout",
     "output_type": "stream",
     "text": [
      "경기도 지역의 도서 개수: 261\n",
      "전라남도 지역의 도서 개수: 173\n",
      "강원도 지역의 도서 개수: 52\n",
      "충청남도 지역의 도서 개수: 193\n",
      "충청북도 지역의 도서 개수: 93\n",
      "경상남도 지역의 도서 개수: 118\n",
      "경상북도 지역의 도서 개수: 30\n",
      "전라북도 지역의 도서 개수: 511\n",
      "서울 지역의 도서 개수: 1075\n",
      "광주 지역의 도서 개수: 56\n",
      "대구 지역의 도서 개수: 518\n",
      "부산 지역의 도서 개수: 145\n",
      "인천 지역의 도서 개수: 65\n",
      "대전 지역의 도서 개수: 1\n",
      "울산 지역의 도서 개수: 20\n",
      "세종 지역의 도서 개수: 280\n",
      "제주 지역의 도서 개수: 71\n"
     ]
    }
   ],
   "source": [
    "location_lists = [\n",
    "    ['수원', '장안', '권선', '팔달', '영통', '성남', '중원', '수정', '분당', '용인', '처인', '기흥', '수지', '안양', '만안', '동안', '안산', '단원', '상록', '과천', '광명', '광주', '군포', '부천', '시흥', '김포', '안성', '오산', '의왕', '이천', '평택', '하남', '화성', '여주', '양평', '고양', '덕양', '일산', '구리', '남양주', '동두천', '양주', '의정부', '파주', '포천', '연천', '가평', '강화'],\n",
    "    ['목포', '무안', '신안', '영암', '해남', '진도', '강진', '장흥', '완도', '순천','순천시' ,'여수', '광양', '구례', '곡성', '고흥', '보성', '나주', '화순', '담양', '장성', '함평', '영광', '나주시'],\n",
    "    ['원주', '춘천', '강릉', '속초', '동해', '태백', '삼척', '홍천', '횡성', '영월', '평창', '정선', '철원', '화천', '양구', '인제', '고성', '양양'],\n",
    "    ['천안', '공주', '논산', '당진', '아산', '서산', '태악', '보령', '서천', '금산', '부여', '청양', '홍성', '예산', '태안', '계룡'],\n",
    "    ['청주', '충주', '제천', '단양', '영동', '보은', '옥천', '음성', '진천', '괴산', '증평', '청원'],\n",
    "    ['창원', '진주', '통영', '사천', '김해', '밀양', '거제', '양산', '의령', '함안', '창녕', '고성', '남해', '하동', '산청', '함양', '거창', '합천', '경남'],\n",
    "    ['포항', '경주', '김천', '안동', '구미', '영주', '영천', '상주', '문경', '경산', '군위', '의성', '청송', '영양', '영덕', '청도', '고령', '성주', '칠곡', '예천', '봉화', '울진', '울릉'],\n",
    "    ['전주', '군산', '익산', '정읍', '남원', '김제', '완주', '진안', '무주', '장수', '임실', '순창', '고창', '부안', '완주군'],\n",
    "    ['서울'], ['광주'], ['대구'], ['부산'], ['인천', '강화'], ['대전'], ['울산'], ['세종', '세종시'], ['제주', '서귀포']\n",
    "]\n",
    "\n",
    "location_list = ['경기도', '전라남도', '강원도', '충청남도', '충청북도', '경상남도', '경상북도', '전라북도',\n",
    "                '서울', '광주', '대구', '부산', '인천', '대전', '울산', '세종', '제주']\n",
    "\n",
    "for i, locations in enumerate(location_lists):\n",
    "    count = 0\n",
    "    for location in locations:\n",
    "        count += data[data['발행지역'] == location].shape[0]\n",
    "    print(f\"{location_list[i]} 지역의 도서 개수:\", count)\n"
   ]
  },
  {
   "cell_type": "code",
   "execution_count": 12,
   "id": "b35b3739",
   "metadata": {},
   "outputs": [],
   "source": [
    "data.fillna('No data', inplace=True)"
   ]
  },
  {
   "cell_type": "code",
   "execution_count": 81,
   "id": "11075d78",
   "metadata": {},
   "outputs": [],
   "source": [
    "data.replace('', 'No data', inplace=True)"
   ]
  },
  {
   "cell_type": "code",
   "execution_count": 85,
   "id": "eb761c00",
   "metadata": {},
   "outputs": [],
   "source": [
    "data.to_csv('biblio_data_Publication_updated_data.csv', index=False, encoding='utf-8-sig')"
   ]
  }
 ],
 "metadata": {
  "kernelspec": {
   "display_name": "Python 3 (ipykernel)",
   "language": "python",
   "name": "python3"
  },
  "language_info": {
   "codemirror_mode": {
    "name": "ipython",
    "version": 3
   },
   "file_extension": ".py",
   "mimetype": "text/x-python",
   "name": "python",
   "nbconvert_exporter": "python",
   "pygments_lexer": "ipython3",
   "version": "3.10.9"
  }
 },
 "nbformat": 4,
 "nbformat_minor": 5
}
