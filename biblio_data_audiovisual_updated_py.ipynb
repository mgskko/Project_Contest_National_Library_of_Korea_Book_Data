{
 "cells": [
  {
   "cell_type": "code",
   "execution_count": 1,
   "id": "33132dad",
   "metadata": {
    "scrolled": true
   },
   "outputs": [
    {
     "data": {
      "text/html": [
       "<div>\n",
       "<style scoped>\n",
       "    .dataframe tbody tr th:only-of-type {\n",
       "        vertical-align: middle;\n",
       "    }\n",
       "\n",
       "    .dataframe tbody tr th {\n",
       "        vertical-align: top;\n",
       "    }\n",
       "\n",
       "    .dataframe thead th {\n",
       "        text-align: right;\n",
       "    }\n",
       "</style>\n",
       "<table border=\"1\" class=\"dataframe\">\n",
       "  <thead>\n",
       "    <tr style=\"text-align: right;\">\n",
       "      <th></th>\n",
       "      <th>국가서지번호</th>\n",
       "      <th>출처기관제어번호</th>\n",
       "      <th>자료유형</th>\n",
       "      <th>표제와 책임표시사항</th>\n",
       "      <th>제목</th>\n",
       "      <th>부제목</th>\n",
       "      <th>편제</th>\n",
       "      <th>권차</th>\n",
       "      <th>저자</th>\n",
       "      <th>판사항</th>\n",
       "      <th>...</th>\n",
       "      <th>접근정보</th>\n",
       "      <th>번역</th>\n",
       "      <th>번역원어</th>\n",
       "      <th>정부기관부호</th>\n",
       "      <th>정부간행물등록번호</th>\n",
       "      <th>출처</th>\n",
       "      <th>간행빈도</th>\n",
       "      <th>권차/연월차</th>\n",
       "      <th>ISSN</th>\n",
       "      <th>소장사항</th>\n",
       "    </tr>\n",
       "  </thead>\n",
       "  <tbody>\n",
       "    <tr>\n",
       "      <th>0</th>\n",
       "      <td>NBC202232479</td>\n",
       "      <td>KMU202201618</td>\n",
       "      <td>시청각자료</td>\n",
       "      <td>#4 우리동네 이야기 [녹음자료] / 강신웅</td>\n",
       "      <td>#4 우리동네 이야기</td>\n",
       "      <td>NaN</td>\n",
       "      <td>NaN</td>\n",
       "      <td>NaN</td>\n",
       "      <td>강신웅(KAC202226876);정탁;주용열;문경인;키니;정상희;김은령;오형근;정소...</td>\n",
       "      <td>NaN</td>\n",
       "      <td>...</td>\n",
       "      <td>소장 : 국립중앙도서관</td>\n",
       "      <td>N</td>\n",
       "      <td>NaN</td>\n",
       "      <td>NaN</td>\n",
       "      <td>NaN</td>\n",
       "      <td>국립중앙도서관</td>\n",
       "      <td>NaN</td>\n",
       "      <td>NaN</td>\n",
       "      <td>NaN</td>\n",
       "      <td>NaN</td>\n",
       "    </tr>\n",
       "    <tr>\n",
       "      <th>1</th>\n",
       "      <td>NBC202232480</td>\n",
       "      <td>KMU202200792</td>\n",
       "      <td>시청각자료</td>\n",
       "      <td>#Topsecret [녹음자료] / 루드블러드, 버무아, 홀던</td>\n",
       "      <td>#Topsecret</td>\n",
       "      <td>NaN</td>\n",
       "      <td>NaN</td>\n",
       "      <td>NaN</td>\n",
       "      <td>루드블러드(KAC202206035);버무아;홀던</td>\n",
       "      <td>NaN</td>\n",
       "      <td>...</td>\n",
       "      <td>소장 : 국립중앙도서관</td>\n",
       "      <td>N</td>\n",
       "      <td>NaN</td>\n",
       "      <td>NaN</td>\n",
       "      <td>NaN</td>\n",
       "      <td>국립중앙도서관</td>\n",
       "      <td>NaN</td>\n",
       "      <td>NaN</td>\n",
       "      <td>NaN</td>\n",
       "      <td>NaN</td>\n",
       "    </tr>\n",
       "    <tr>\n",
       "      <th>2</th>\n",
       "      <td>NBC202232480</td>\n",
       "      <td>KMU202204250</td>\n",
       "      <td>시청각자료</td>\n",
       "      <td>#생각이나 [녹음자료] / 노형돈</td>\n",
       "      <td>#생각이나</td>\n",
       "      <td>NaN</td>\n",
       "      <td>NaN</td>\n",
       "      <td>NaN</td>\n",
       "      <td>노형돈(KAC2018G3565)</td>\n",
       "      <td>NaN</td>\n",
       "      <td>...</td>\n",
       "      <td>소장 : 국립중앙도서관</td>\n",
       "      <td>N</td>\n",
       "      <td>NaN</td>\n",
       "      <td>NaN</td>\n",
       "      <td>NaN</td>\n",
       "      <td>국립중앙도서관</td>\n",
       "      <td>NaN</td>\n",
       "      <td>NaN</td>\n",
       "      <td>NaN</td>\n",
       "      <td>NaN</td>\n",
       "    </tr>\n",
       "    <tr>\n",
       "      <th>3</th>\n",
       "      <td>NBC202232480</td>\n",
       "      <td>T16694972</td>\n",
       "      <td>시청각자료</td>\n",
       "      <td>(007) 노 타임 투 다이 [비디오녹화자료] /  Cary Fukunaga 감독</td>\n",
       "      <td>(007) 노 타임 투 다이</td>\n",
       "      <td>NaN</td>\n",
       "      <td>NaN</td>\n",
       "      <td>NaN</td>\n",
       "      <td>Fukunaga Cary;Craig Daniel;Malek Rami;Lynch La...</td>\n",
       "      <td>NaN</td>\n",
       "      <td>...</td>\n",
       "      <td>RISS 학술연구정보서비스</td>\n",
       "      <td>N</td>\n",
       "      <td>NaN</td>\n",
       "      <td></td>\n",
       "      <td>NaN</td>\n",
       "      <td>한국교육학술정보원</td>\n",
       "      <td>NaN</td>\n",
       "      <td>NaN</td>\n",
       "      <td>NaN</td>\n",
       "      <td>NaN</td>\n",
       "    </tr>\n",
       "    <tr>\n",
       "      <th>4</th>\n",
       "      <td>NBC202232480</td>\n",
       "      <td>KVM202201913</td>\n",
       "      <td>시청각자료</td>\n",
       "      <td>(18th) 서울와우북페스티벌 [화상자료] = Seoul Wow Book Festi...</td>\n",
       "      <td>(18th) 서울와우북페스티벌</td>\n",
       "      <td>다정함으로 길을 묻다</td>\n",
       "      <td>NaN</td>\n",
       "      <td>NaN</td>\n",
       "      <td>와우책문화예술센터</td>\n",
       "      <td>NaN</td>\n",
       "      <td>...</td>\n",
       "      <td>소장 : 국립중앙도서관</td>\n",
       "      <td>N</td>\n",
       "      <td>NaN</td>\n",
       "      <td>NaN</td>\n",
       "      <td>NaN</td>\n",
       "      <td>국립중앙도서관</td>\n",
       "      <td>NaN</td>\n",
       "      <td>NaN</td>\n",
       "      <td>NaN</td>\n",
       "      <td>NaN</td>\n",
       "    </tr>\n",
       "  </tbody>\n",
       "</table>\n",
       "<p>5 rows × 46 columns</p>\n",
       "</div>"
      ],
      "text/plain": [
       "         국가서지번호      출처기관제어번호   자료유형  \\\n",
       "0  NBC202232479  KMU202201618  시청각자료   \n",
       "1  NBC202232480  KMU202200792  시청각자료   \n",
       "2  NBC202232480  KMU202204250  시청각자료   \n",
       "3  NBC202232480     T16694972  시청각자료   \n",
       "4  NBC202232480  KVM202201913  시청각자료   \n",
       "\n",
       "                                          표제와 책임표시사항                제목  \\\n",
       "0                           #4 우리동네 이야기 [녹음자료] / 강신웅       #4 우리동네 이야기   \n",
       "1                 #Topsecret [녹음자료] / 루드블러드, 버무아, 홀던        #Topsecret   \n",
       "2                                 #생각이나 [녹음자료] / 노형돈             #생각이나   \n",
       "3      (007) 노 타임 투 다이 [비디오녹화자료] /  Cary Fukunaga 감독   (007) 노 타임 투 다이   \n",
       "4  (18th) 서울와우북페스티벌 [화상자료] = Seoul Wow Book Festi...  (18th) 서울와우북페스티벌   \n",
       "\n",
       "           부제목   편제   권차                                                 저자  \\\n",
       "0          NaN  NaN  NaN  강신웅(KAC202226876);정탁;주용열;문경인;키니;정상희;김은령;오형근;정소...   \n",
       "1          NaN  NaN  NaN                         루드블러드(KAC202206035);버무아;홀던   \n",
       "2          NaN  NaN  NaN                                  노형돈(KAC2018G3565)   \n",
       "3          NaN  NaN  NaN  Fukunaga Cary;Craig Daniel;Malek Rami;Lynch La...   \n",
       "4  다정함으로 길을 묻다  NaN  NaN                                          와우책문화예술센터   \n",
       "\n",
       "   판사항  ...            접근정보 번역 번역원어  정부기관부호 정부간행물등록번호         출처  간행빈도  \\\n",
       "0  NaN  ...    소장 : 국립중앙도서관  N  NaN     NaN       NaN    국립중앙도서관   NaN   \n",
       "1  NaN  ...    소장 : 국립중앙도서관  N  NaN     NaN       NaN    국립중앙도서관   NaN   \n",
       "2  NaN  ...    소장 : 국립중앙도서관  N  NaN     NaN       NaN    국립중앙도서관   NaN   \n",
       "3  NaN  ...  RISS 학술연구정보서비스  N  NaN               NaN  한국교육학술정보원   NaN   \n",
       "4  NaN  ...    소장 : 국립중앙도서관  N  NaN     NaN       NaN    국립중앙도서관   NaN   \n",
       "\n",
       "   권차/연월차  ISSN 소장사항  \n",
       "0     NaN   NaN  NaN  \n",
       "1     NaN   NaN  NaN  \n",
       "2     NaN   NaN  NaN  \n",
       "3     NaN   NaN  NaN  \n",
       "4     NaN   NaN  NaN  \n",
       "\n",
       "[5 rows x 46 columns]"
      ]
     },
     "execution_count": 1,
     "metadata": {},
     "output_type": "execute_result"
    }
   ],
   "source": [
    "import pandas as pd\n",
    "\n",
    "df = pd.read_excel(\"./biblio_data_audiovisual.xlsx\")\n",
    "\n",
    "# 데이터 확인\n",
    "df.head(5)"
   ]
  },
  {
   "cell_type": "code",
   "execution_count": 2,
   "id": "8a8dacf7",
   "metadata": {},
   "outputs": [],
   "source": [
    "data = df.loc[:,['국가서지번호', '출처기관제어번호', '자료유형','표제와 책임표시사항', '제목', '부제목', '저자', '발행처', '발행지역', '발행지코드', '내용유형', '크기', '가격', '본문언어','분야']]"
   ]
  },
  {
   "cell_type": "code",
   "execution_count": 3,
   "id": "1da719e5",
   "metadata": {},
   "outputs": [
    {
     "data": {
      "text/plain": [
       "kor    4755\n",
       "eng     585\n",
       "zxx     225\n",
       "chi      57\n",
       "fre      57\n",
       "jpn      54\n",
       "rus      20\n",
       "spa      17\n",
       "ger      12\n",
       "ita      10\n",
       "swe       6\n",
       "fin       4\n",
       "ukr       4\n",
       "tha       3\n",
       "nor       3\n",
       "hun       3\n",
       "pol       3\n",
       "per       3\n",
       "cze       3\n",
       "mul       2\n",
       "tur       2\n",
       "est       2\n",
       "rum       2\n",
       "por       2\n",
       "ara       2\n",
       "dan       2\n",
       "vie       2\n",
       "dzo       1\n",
       "nud       1\n",
       "srp       1\n",
       "hin       1\n",
       "dut       1\n",
       "zzx       1\n",
       "may       1\n",
       "Name: 본문언어, dtype: int64"
      ]
     },
     "execution_count": 3,
     "metadata": {},
     "output_type": "execute_result"
    }
   ],
   "source": [
    "data['본문언어'].value_counts().head(60)"
   ]
  },
  {
   "cell_type": "code",
   "execution_count": 4,
   "id": "d3659acf",
   "metadata": {},
   "outputs": [
    {
     "data": {
      "text/plain": [
       "25300.0     479\n",
       "25700.0     187\n",
       "22000.0     164\n",
       "209000.0    126\n",
       "33000.0     109\n",
       "20000.0      94\n",
       "189000.0     46\n",
       "44000.0      37\n",
       "170000.0     32\n",
       "40000.0      27\n",
       "31900.0      25\n",
       "10000.0      24\n",
       "30000.0      22\n",
       "50000.0      18\n",
       "29700.0      16\n",
       "300000.0     10\n",
       "9000.0       10\n",
       "239000.0     10\n",
       "60000.0       9\n",
       "150000.0      9\n",
       "19800.0       8\n",
       "29000.0       8\n",
       "100000.0      8\n",
       "250000.0      8\n",
       "228000.0      5\n",
       "41800.0       5\n",
       "15950.0       4\n",
       "11000.0       4\n",
       "168000.0      3\n",
       "99000.0       2\n",
       "39600.0       2\n",
       "5000.0        2\n",
       "27500.0       2\n",
       "132000.0      2\n",
       "210000.0      2\n",
       "45000.0       2\n",
       "14500.0       2\n",
       "36000.0       2\n",
       "198000.0      2\n",
       "35600.0       1\n",
       "19400.0       1\n",
       "34900.0       1\n",
       "66000.0       1\n",
       "47300.0       1\n",
       "540000.0      1\n",
       "35900.0       1\n",
       "77000.0       1\n",
       "18000.0       1\n",
       "82500.0       1\n",
       "33900.0       1\n",
       "440000.0      1\n",
       "660000.0      1\n",
       "42900.0       1\n",
       "46200.0       1\n",
       "200000.0      1\n",
       "19600.0       1\n",
       "34100.0       1\n",
       "4000.0        1\n",
       "22500.0       1\n",
       "25000.0       1\n",
       "Name: 가격, dtype: int64"
      ]
     },
     "execution_count": 4,
     "metadata": {},
     "output_type": "execute_result"
    }
   ],
   "source": [
    "data['가격'].value_counts().head(60)"
   ]
  },
  {
   "cell_type": "code",
   "execution_count": 5,
   "id": "10204745",
   "metadata": {},
   "outputs": [
    {
     "data": {
      "text/plain": [
       "performed music       3352\n",
       "moving image          1847\n",
       "spoken word            324\n",
       "computer dataset       240\n",
       "still image             58\n",
       "cartographic image      26\n",
       "Name: 내용유형, dtype: int64"
      ]
     },
     "execution_count": 5,
     "metadata": {},
     "output_type": "execute_result"
    }
   ],
   "source": [
    "data['내용유형'].value_counts().head(60)"
   ]
  },
  {
   "cell_type": "code",
   "execution_count": 6,
   "id": "ea3d449f",
   "metadata": {},
   "outputs": [
    {
     "data": {
      "image/png": "[encoded data removed]",
      "text/plain": [
       "<Figure size 1000x600 with 1 Axes>"
      ]
     },
     "metadata": {},
     "output_type": "display_data"
    }
   ],
   "source": [
    "import matplotlib.pyplot as plt\n",
    "from matplotlib import font_manager, rc\n",
    "\n",
    "# 한글 폰트 설정 (Windows 환경에서는 다른 폰트를 사용할 수 있음)\n",
    "font_path = \"C:/Windows/Fonts/malgun.ttf\"  # 사용할 한글 폰트 경로\n",
    "font_name = font_manager.FontProperties(fname=font_path).get_name()\n",
    "rc('font', family=font_name)\n",
    "\n",
    "# 발행처 빈도 상위 10개 가져오기\n",
    "top_publishers = data['내용유형'].value_counts().head(10)\n",
    "\n",
    "# 그래프 그리기\n",
    "plt.figure(figsize=(10, 6))\n",
    "ax = top_publishers.plot(kind='bar', color='skyblue', edgecolor='black')\n",
    "plt.title('내용유형별 도서 개수', fontsize=16)\n",
    "plt.xlabel('내용유형', fontsize=12)\n",
    "plt.ylabel('도서 개수', fontsize=12)\n",
    "plt.xticks(rotation=45, ha='right', fontsize=10)\n",
    "plt.yticks(fontsize=10)\n",
    "plt.grid(axis='y', linestyle='--', alpha=0.7)\n",
    "\n",
    "# 그래프에 개수 표시\n",
    "for i, v in enumerate(top_publishers):\n",
    "    ax.text(i, v + 10, str(v), ha='center', va='bottom', fontsize=10)\n",
    "\n",
    "plt.tight_layout()\n",
    "\n",
    "# 그래프 표시\n",
    "plt.show()"
   ]
  },
  {
   "cell_type": "code",
   "execution_count": 7,
   "id": "66324418",
   "metadata": {},
   "outputs": [
    {
     "data": {
      "image/png": "[encoded data removed]",
      "text/plain": [
       "<Figure size 1000x600 with 1 Axes>"
      ]
     },
     "metadata": {},
     "output_type": "display_data"
    }
   ],
   "source": [
    "import matplotlib.pyplot as plt\n",
    "from matplotlib import font_manager, rc\n",
    "\n",
    "# 한글 폰트 설정 (Windows 환경에서는 다른 폰트를 사용할 수 있음)\n",
    "font_path = \"C:/Windows/Fonts/malgun.ttf\"  # 사용할 한글 폰트 경로\n",
    "font_name = font_manager.FontProperties(fname=font_path).get_name()\n",
    "rc('font', family=font_name)\n",
    "\n",
    "# 발행처 빈도 상위 10개 가져오기\n",
    "top_publishers = data['자료유형'].value_counts().head(10)\n",
    "\n",
    "# 그래프 그리기\n",
    "plt.figure(figsize=(10, 6))\n",
    "ax = top_publishers.plot(kind='bar', color='skyblue', edgecolor='black')\n",
    "plt.title('자료유형 상위 10개의 도서 개수', fontsize=16)\n",
    "plt.xlabel('자료유형', fontsize=12)\n",
    "plt.ylabel('도서 개수', fontsize=12)\n",
    "plt.xticks(rotation=45, ha='right', fontsize=10)\n",
    "plt.yticks(fontsize=10)\n",
    "plt.grid(axis='y', linestyle='--', alpha=0.7)\n",
    "\n",
    "# 그래프에 개수 표시\n",
    "for i, v in enumerate(top_publishers):\n",
    "    ax.text(i, v + 10, str(v), ha='center', va='bottom', fontsize=10)\n",
    "\n",
    "plt.tight_layout()\n",
    "\n",
    "# 그래프 표시\n",
    "plt.show()"
   ]
  },
  {
   "cell_type": "code",
   "execution_count": 8,
   "id": "c8e6b31e",
   "metadata": {},
   "outputs": [
    {
     "name": "stdout",
     "output_type": "stream",
     "text": [
      "5847\n"
     ]
    }
   ],
   "source": [
    "print(len(data))"
   ]
  },
  {
   "cell_type": "code",
   "execution_count": 9,
   "id": "58187049",
   "metadata": {},
   "outputs": [
    {
     "name": "stdout",
     "output_type": "stream",
     "text": [
      "가격의 합: 89783500\n",
      "0이 아닌 값의 수: 1553\n"
     ]
    }
   ],
   "source": [
    "# 문자열을 정수로 변환하고 0이 아닌 값의 수를 계산하는 함수\n",
    "def process_price(price):\n",
    "    try:\n",
    "        price = int(price)\n",
    "        return price, 1 if price != 0 else 0\n",
    "    except ValueError:\n",
    "        return 0, 0\n",
    "\n",
    "# 데이터프레임의 '가격' 열에 대해 함수를 적용하고 결과를 얻는다\n",
    "prices_and_counts = data['가격'].apply(process_price)\n",
    "\n",
    "# '가격' 열의 정수 값을 모두 합산\n",
    "total_price = sum(price for price, _ in prices_and_counts)\n",
    "\n",
    "# 0이 아닌 값의 수를 계산\n",
    "non_zero_count = sum(count for _, count in prices_and_counts)\n",
    "\n",
    "print(f\"가격의 합: {total_price}\")\n",
    "print(f\"0이 아닌 값의 수: {non_zero_count}\")\n"
   ]
  },
  {
   "cell_type": "code",
   "execution_count": 10,
   "id": "dda96352",
   "metadata": {},
   "outputs": [],
   "source": [
    "data.fillna('No data', inplace=True)"
   ]
  },
  {
   "cell_type": "code",
   "execution_count": 11,
   "id": "1a537594",
   "metadata": {},
   "outputs": [],
   "source": [
    "data.to_csv('biblio_data_audiovisual_updated_data.csv', index=False, encoding='utf-8-sig')"
   ]
  },
  {
   "cell_type": "code",
   "execution_count": null,
   "id": "7768d634",
   "metadata": {},
   "outputs": [],
   "source": []
  },
  {
   "cell_type": "code",
   "execution_count": null,
   "id": "d3e825f9",
   "metadata": {},
   "outputs": [],
   "source": []
  }
 ],
 "metadata": {
  "kernelspec": {
   "display_name": "Python 3 (ipykernel)",
   "language": "python",
   "name": "python3"
  },
  "language_info": {
   "codemirror_mode": {
    "name": "ipython",
    "version": 3
   },
   "file_extension": ".py",
   "mimetype": "text/x-python",
   "name": "python",
   "nbconvert_exporter": "python",
   "pygments_lexer": "ipython3",
   "version": "3.10.9"
  }
 },
 "nbformat": 4,
 "nbformat_minor": 5
}
